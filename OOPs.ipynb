{
 "cells": [
  {
   "cell_type": "markdown",
   "id": "1f8e67f0",
   "metadata": {},
   "source": [
    "# Classes"
   ]
  },
  {
   "cell_type": "code",
   "execution_count": 26,
   "id": "f59ec7fb",
   "metadata": {},
   "outputs": [
    {
     "name": "stdout",
     "output_type": "stream",
     "text": [
      "name:  felix\n",
      "colour:  brown\n",
      "legs:  4\n"
     ]
    }
   ],
   "source": [
    "class Cat:\n",
    "    def __init__(self,name ,color, legs):\n",
    "        self.name = name\n",
    "        self.color = color\n",
    "        self.legs = legs\n",
    "        \n",
    "        \n",
    "    def display(self):\n",
    "        print('name: ',self.name)\n",
    "        print('colour: ',self.color)\n",
    "        print('legs: ',self.legs)\n",
    "\n",
    "        \n",
    "ob_cat = Cat('felix','brown',4)\n",
    "ob_cat.display()"
   ]
  },
  {
   "cell_type": "markdown",
   "id": "8ab191e4",
   "metadata": {},
   "source": [
    "# Area & Perimeter of Rectangle"
   ]
  },
  {
   "cell_type": "code",
   "execution_count": 2,
   "id": "36d18b11",
   "metadata": {},
   "outputs": [
    {
     "name": "stdout",
     "output_type": "stream",
     "text": [
      "enter height: 5\n",
      "enter width: 6\n",
      "width:  5\n",
      "height:  6\n",
      "area:  30\n",
      "perimeter:  22\n"
     ]
    }
   ],
   "source": [
    "class Rectangle():\n",
    "    def __init__(self , width , height):\n",
    "        self.width = width\n",
    "        self.height = height \n",
    "    def area(self):\n",
    "        return self.width * self.height               #(area = h * w )\n",
    "    def perimeter(self):\n",
    "        return 2*(self.width + self.height)           #P = 2(l+w)\n",
    "    def display(self):\n",
    "        print('width: ',self.width)  \n",
    "        print('height: ',self.height)\n",
    "        print('area: ',self.area())\n",
    "        print('perimeter: ',self.perimeter())\n",
    "\n",
    "\n",
    "\n",
    "l = int(input(\"enter height: \"))\n",
    "w = int(input(\"enter width: \"))\n",
    "\n",
    "ob_1 = Rectangle(l,w)\n",
    "ob_1.display()"
   ]
  },
  {
   "cell_type": "code",
   "execution_count": 25,
   "id": "4f3a57f9",
   "metadata": {},
   "outputs": [
    {
     "name": "stdout",
     "output_type": "stream",
     "text": [
      "4500\n",
      "7200.0\n"
     ]
    }
   ],
   "source": [
    "# class Employee():\n",
    "#     def __init__(self,fname,lname,salary):\n",
    "#         self.fname = fname\n",
    "#         self.lname = lname\n",
    "#         self.salary = salary\n",
    "\n",
    "# Ali = Employee('Ali','Amir','4500')\n",
    "# Bilal = Employee('Bilal','Ahmed','0')  # but it can store these 2 objects at diff location\n",
    "\n",
    "\n",
    "\n",
    "# print(Ali.fname , Ali.lname)\n",
    "# print('salary: ',Ali.salary)\n",
    "\n",
    "class Employee():\n",
    "    increment = 1.6  # class variable \n",
    "    \n",
    "    def __init__(self,fname,lname,salary):\n",
    "        self.fname = fname\n",
    "        self.lname = lname      \n",
    "        self.salary= salary\n",
    "    def increase(self):\n",
    "        self.salary = self.salary * Employee.increment\n",
    " \n",
    "    \n",
    "Ali = Employee('Ali','Amir',4500)\n",
    "Bilal = Employee('Bilal','Ahmed',0)\n",
    "\n",
    "print(Ali.salary) # first it searches inside init \n",
    "Ali.increase()\n",
    "print(Ali.salary) # but if you direct called the class it goes on class variable"
   ]
  },
  {
   "cell_type": "markdown",
   "id": "96dc6746",
   "metadata": {},
   "source": [
    "# User defined Classes"
   ]
  },
  {
   "cell_type": "code",
   "execution_count": 35,
   "id": "c869120f",
   "metadata": {},
   "outputs": [
    {
     "name": "stdout",
     "output_type": "stream",
     "text": [
      "Nothing seems to have happened with the points\n",
      "<__main__.Point object at 0x000001C6CA480A30> <__main__.Point object at 0x000001C6CA517A60>\n"
     ]
    }
   ],
   "source": [
    "class Point:\n",
    "    \"\"\" Point class for representing and manipulating x,y coordinates. \"\"\"\n",
    "\n",
    "    def __init__(self):\n",
    "        \"\"\" Create a new point at the origin \"\"\"\n",
    "        self.x = 0\n",
    "        self.y = 0\n",
    "        \n",
    "p = Point()         # Instantiate an object of type Point\n",
    "q = Point()         # and make a second point\n",
    "\n",
    "print(\"Nothing seems to have happened with the points\")        \n",
    "\n",
    "print(p , q)"
   ]
  },
  {
   "cell_type": "markdown",
   "id": "90dccdb9",
   "metadata": {},
   "source": [
    "# Adding Parameters to the Constructor"
   ]
  },
  {
   "cell_type": "code",
   "execution_count": 3,
   "id": "280e9826",
   "metadata": {},
   "outputs": [
    {
     "name": "stdout",
     "output_type": "stream",
     "text": [
      "<__main__.Point object at 0x000001645D825880>\n"
     ]
    }
   ],
   "source": [
    "class Point:\n",
    "    \"\"\" Point class for representing and manipulating x,y coordinates. \"\"\"\n",
    "\n",
    "    def __init__(self, initX, initY):\n",
    "\n",
    "        self.x = initX\n",
    "        self.y = initY\n",
    "\n",
    "p = Point(7,6)"
   ]
  },
  {
   "cell_type": "code",
   "execution_count": 14,
   "id": "ab459ee7",
   "metadata": {},
   "outputs": [
    {
     "name": "stdout",
     "output_type": "stream",
     "text": [
      "<__main__.NumberSet object at 0x00000283E64A6970>\n"
     ]
    }
   ],
   "source": [
    "# assignment\n",
    "'''' Create a class called NumberSet that accepts 2 integers as input, and defines two instance variables: \n",
    "num1 and num2, which hold each of the input integers. \n",
    "Then, create an instance of NumberSet where its num1 is 6 and its num2 is 10. \n",
    "Save this instance to a variable t.'''\n",
    "\n",
    "class NumberSet:\n",
    "    def __init__(self,num1,num2):\n",
    "        self.num1 = num1\n",
    "        self.num2 = num2\n",
    "\n",
    "t = NumberSet(6,20)\n",
    "print(t)"
   ]
  },
  {
   "cell_type": "markdown",
   "id": "6b6ae96d",
   "metadata": {},
   "source": [
    "#  Adding Other Methods to a Class"
   ]
  },
  {
   "cell_type": "code",
   "execution_count": 15,
   "id": "0a05b196",
   "metadata": {},
   "outputs": [
    {
     "name": "stdout",
     "output_type": "stream",
     "text": [
      "7\n",
      "6\n"
     ]
    }
   ],
   "source": [
    "class Point:\n",
    "    \"\"\" Point class for representing and manipulating x,y coordinates. \"\"\"\n",
    "\n",
    "    def __init__(self, initX, initY):\n",
    "\n",
    "        self.x = initX\n",
    "        self.y = initY\n",
    "\n",
    "    def getX(self):  # functions inside a class is called Class Methods\n",
    "        return self.x\n",
    "\n",
    "    def getY(self):\n",
    "        return self.y\n",
    "\n",
    "\n",
    "p = Point(7,6)\n",
    "print(p.getX())\n",
    "print(p.getY())"
   ]
  },
  {
   "cell_type": "code",
   "execution_count": 8,
   "id": "ca1156b1",
   "metadata": {},
   "outputs": [
    {
     "data": {
      "text/plain": [
       "<bound method Animal.limbs of <__main__.Animal object at 0x000001645D879160>>"
      ]
     },
     "execution_count": 8,
     "metadata": {},
     "output_type": "execute_result"
    }
   ],
   "source": [
    "# asignment\n",
    "''''Create a class called Animal that accepts two numbers as inputs and assigns them respectively to two instance variables: \n",
    "arms and legs. Create an instance method called limbs that, when called, returns the total number of limbs the animal has. \n",
    "To the variable name spider, assign an instance of Animal that has 4 arms and 4 legs. \n",
    "Call the limbs method on the spider instance and save the result to the variable name spidlimbs.'''\n",
    "\n",
    "class Animal:\n",
    "    def __init__(self,arms,legs):\n",
    "        self.arms = arms\n",
    "        self.legs = legs\n",
    "    def limbs(self):         \n",
    "        return (self.arms + self.legs)\n",
    "    \n",
    "spider = Animal(4,4)\n",
    "spidlimbs = spider.limbs\n",
    "spider.limbs"
   ]
  },
  {
   "cell_type": "markdown",
   "id": "830ac636",
   "metadata": {},
   "source": [
    "# Objects as Arguments and Parameters"
   ]
  },
  {
   "cell_type": "code",
   "execution_count": 10,
   "id": "6339101c",
   "metadata": {},
   "outputs": [
    {
     "name": "stdout",
     "output_type": "stream",
     "text": [
      "5.0\n"
     ]
    }
   ],
   "source": [
    "import math\n",
    "\n",
    "class Point:\n",
    "    \"\"\" Point class for representing and manipulating x,y coordinates. \"\"\"\n",
    "\n",
    "    def __init__(self, initX, initY):\n",
    "\n",
    "        self.x = initX # objects\n",
    "        self.y = initY\n",
    "\n",
    "    def getX(self):\n",
    "        return self.x  \n",
    "\n",
    "    def getY(self):\n",
    "        return self.y\n",
    "\n",
    "    def distanceFromOrigin(self):\n",
    "        return ((self.x ** 2) + (self.y ** 2)) ** 0.5\n",
    "\n",
    "    def distance(self, point2):\n",
    "        xdiff = point2.getX()-self.getX()\n",
    "        ydiff = point2.getY()-self.getY()\n",
    "\n",
    "        dist = math.sqrt(xdiff**2 + ydiff**2)\n",
    "        return dist\n",
    "\n",
    "p = Point(4,3)\n",
    "q = Point(0,0)\n",
    "print(p.distance(q))"
   ]
  },
  {
   "cell_type": "markdown",
   "id": "20ad47eb",
   "metadata": {},
   "source": [
    "# Converting an Object to a String"
   ]
  },
  {
   "cell_type": "code",
   "execution_count": 11,
   "id": "e904ee03",
   "metadata": {},
   "outputs": [
    {
     "name": "stdout",
     "output_type": "stream",
     "text": [
      "Corn Flakes cereal is produced by Kellogg's and has 2 grams of fiber in every servings\n",
      "Honey Nut Cheerios cereal is produced by General Mills and has 3 grams of fiber in every servings\n"
     ]
    }
   ],
   "source": [
    "class Cereal:\n",
    "    def __init__(self,name,brand,fiber):\n",
    "        self.name = name\n",
    "        self.brand = brand\n",
    "        self.fiber = fiber\n",
    "    def __str__(self):\n",
    "        return \"{} cereal is produced by {} and has {} grams of fiber in every servings\".format(self.name,self.brand,self.fiber)\n",
    "\n",
    "c1 = Cereal(\"Corn Flakes\" , \"Kellogg's\" , '2')\n",
    "c2 = Cereal(\"Honey Nut Cheerios\",\"General Mills\",'3')\n",
    "\n",
    "print(c1)\n",
    "print(c2)"
   ]
  },
  {
   "cell_type": "code",
   "execution_count": 29,
   "id": "f620f32a",
   "metadata": {},
   "outputs": [
    {
     "name": "stdout",
     "output_type": "stream",
     "text": [
      "Point (7,6)\n",
      "Point (-5,10)\n",
      "Point Sum:  (2, 16)\n",
      "Point diff:  (12, -4)\n"
     ]
    }
   ],
   "source": [
    "class Point:\n",
    "    \"\"\" Point class for representing and manipulating x,y coordinates. \"\"\"\n",
    "\n",
    "    def __init__(self, initX, initY):\n",
    "\n",
    "        self.x = initX\n",
    "        self.y = initY\n",
    "\n",
    "    def getX(self):\n",
    "        return self.x\n",
    "\n",
    "    def getY(self):\n",
    "        return self.y\n",
    "\n",
    "    def distanceFromOrigin(self):\n",
    "        return ((self.x ** 2) + (self.y ** 2)) ** 0.5\n",
    "\n",
    "    def __str__(self):\n",
    "        return \"Point ({},{})\".format(self.x, self.y)  # used to display class in a str\n",
    " \n",
    "    def __add__(self,otherpoint):\n",
    "        return (self.x + otherpoint.x , self.y + otherpoint.y) # used to add objects in a class\n",
    "    def __sub__(self,otherpoint):\n",
    "         return (self.x - otherpoint.x , self.y - otherpoint.y) # used to subtract objects in a class\n",
    "\n",
    "        \n",
    "p1 = Point(7,6)\n",
    "p2 = Point(-5,10)\n",
    "print(p1)\n",
    "print(p2)\n",
    "\n",
    "print('Point Sum: ',p1 + p2)\n",
    "print('Point diff: ',p1 - p2)\n",
    "\n"
   ]
  },
  {
   "cell_type": "markdown",
   "id": "ec37f834",
   "metadata": {},
   "source": [
    "# Instances as Return Values"
   ]
  },
  {
   "cell_type": "code",
   "execution_count": 31,
   "id": "ed78119a",
   "metadata": {},
   "outputs": [
    {
     "name": "stdout",
     "output_type": "stream",
     "text": [
      "halfway Point(4.0,8.0)\n",
      "4.0\n",
      "8.0\n"
     ]
    }
   ],
   "source": [
    "class Point:\n",
    "\n",
    "    def __init__(self, initX, initY):\n",
    "\n",
    "        self.x = initX\n",
    "        self.y = initY\n",
    "\n",
    "    def getX(self):\n",
    "        return self.x\n",
    "\n",
    "    def getY(self):\n",
    "        return self.y\n",
    "\n",
    "    def distanceFromOrigin(self):\n",
    "        return ((self.x ** 2) + (self.y ** 2)) ** 0.5\n",
    "\n",
    "    def __str__(self):\n",
    "        return \"halfway Point({},{})\".format(self.x, self.y)\n",
    "\n",
    "    def halfway(self, target):\n",
    "        mx = (self.x + target.x)/2\n",
    "        my = (self.y + target.y)/2\n",
    "        return Point(mx, my)\n",
    "\n",
    "p = Point(3,4)\n",
    "q = Point(5,12)\n",
    "mid = p.halfway(q)\n",
    "# note that you would have exactly the same result if you instead wrote\n",
    "# mid = q.halfway(p)\n",
    "# because they are both Point objects, and the middle is the same no matter what\n",
    "\n",
    "print(mid)\n",
    "print(mid.getX())\n",
    "print(mid.getY())"
   ]
  },
  {
   "cell_type": "markdown",
   "id": "13acf4db",
   "metadata": {},
   "source": [
    "# Sorting Lists of Instances"
   ]
  },
  {
   "cell_type": "code",
   "execution_count": 47,
   "id": "97b070fa",
   "metadata": {},
   "outputs": [
    {
     "name": "stdout",
     "output_type": "stream",
     "text": [
      "Apple\n",
      "Cherry\n",
      "Blueberry\n",
      "\n",
      "\n",
      "pages:  400 \n",
      "name:  david cooperfield\n",
      "pages:  1700 \n",
      "name:  great expectations\n",
      "pages:  10000 \n",
      "name:  Good habits\n"
     ]
    }
   ],
   "source": [
    "class Fruit():\n",
    "    def __init__(self, name, price):\n",
    "        self.name = name\n",
    "        self.price = price\n",
    "\n",
    "L = [Fruit(\"Cherry\", 10), Fruit(\"Apple\", 5), Fruit(\"Blueberry\", 20)]\n",
    "for f in sorted(L, key=lambda x: x.price):\n",
    "    print(f.name)\n",
    "\n",
    "print('\\n')    \n",
    "\n",
    "#------------------------------------------------------------------------------------------------#\n",
    "\n",
    "class Book:\n",
    "    def __init__(self , name , pages):\n",
    "        self.name = name\n",
    "        self.pages = pages\n",
    "        \n",
    "b = [\n",
    "    Book('david cooperfield',400),\n",
    "    Book('great expectations',1700),\n",
    "    Book('Good habits',10000),\n",
    "]        \n",
    "\n",
    "for bks in (sorted(b , key = lambda x : x.pages)):\n",
    "           print('pages: ',bks.pages,\"\\nname: \",bks.name)\n",
    "\n"
   ]
  },
  {
   "cell_type": "markdown",
   "id": "c966dece",
   "metadata": {},
   "source": [
    "# Class Variables and Instance Variables"
   ]
  },
  {
   "cell_type": "code",
   "execution_count": 48,
   "id": "33973c7b",
   "metadata": {},
   "outputs": [
    {
     "name": "stdout",
     "output_type": "stream",
     "text": [
      "4\n",
      "3 *\n",
      "2\n",
      "1\n",
      "01234\n",
      "\n",
      "3\n",
      "2  *\n",
      "1\n",
      "0\n",
      "9\n",
      "8\n",
      "7\n",
      "6\n",
      "5\n",
      "4\n",
      "3\n",
      "2\n",
      "1\n",
      "01234567890123\n"
     ]
    }
   ],
   "source": [
    "class Point:\n",
    "    \"\"\" Point class for representing and manipulating x,y coordinates. \"\"\"\n",
    "\n",
    "    printed_rep = \"*\"\n",
    "\n",
    "    def __init__(self, initX, initY):\n",
    "\n",
    "        self.x = initX\n",
    "        self.y = initY\n",
    "\n",
    "    def graph(self):\n",
    "        rows = []\n",
    "        size = max(int(self.x), int(self.y)) + 2\n",
    "        for j in range(size-1) :\n",
    "            if (j+1) == int(self.y):\n",
    "                special_row = str((j+1) % 10) + (\" \"*(int(self.x) -1)) + self.printed_rep\n",
    "                rows.append(special_row)\n",
    "            else:\n",
    "                rows.append(str((j+1) % 10))\n",
    "        rows.reverse()  # put higher values of y first\n",
    "        x_axis = \"\"\n",
    "        for i in range(size):\n",
    "            x_axis += str(i % 10)\n",
    "        rows.append(x_axis)\n",
    "\n",
    "        return \"\\n\".join(rows)\n",
    "\n",
    "\n",
    "p1 = Point(2, 3)\n",
    "p2 = Point(3, 12)\n",
    "print(p1.graph())\n",
    "print()\n",
    "print(p2.graph())"
   ]
  },
  {
   "cell_type": "markdown",
   "id": "91cce668",
   "metadata": {},
   "source": [
    "# Tamagotchi Game"
   ]
  },
  {
   "cell_type": "code",
   "execution_count": 50,
   "id": "830185ff",
   "metadata": {},
   "outputs": [
    {
     "name": "stdout",
     "output_type": "stream",
     "text": [
      "     I'm Fido.  I feel happy. \n",
      "0      I'm Fido.  I feel happy. \n",
      "1      I'm Fido.  I feel bored. \n",
      "2      I'm Fido.  I feel bored. \n",
      "3      I'm Fido.  I feel bored. \n",
      "4      I'm Fido.  I feel bored. \n",
      "5      I'm Fido.  I feel bored. \n",
      "6      I'm Fido.  I feel bored. \n",
      "7      I'm Fido.  I feel bored. \n",
      "8      I'm Fido.  I feel bored. \n",
      "9      I'm Fido.  I feel hungry. \n",
      "     I'm Fido.  I feel bored. \n"
     ]
    }
   ],
   "source": [
    "from random import randrange\n",
    "\n",
    "class Pet():\n",
    "    boredom_decrement = 4\n",
    "    hunger_decrement = 6\n",
    "    boredom_threshold = 5\n",
    "    hunger_threshold = 10\n",
    "    sounds = ['Mrrp']\n",
    "    def __init__(self, name = \"Kitty\"):\n",
    "        self.name = name\n",
    "        self.hunger = randrange(self.hunger_threshold)\n",
    "        self.boredom = randrange(self.boredom_threshold)\n",
    "        self.sounds = self.sounds[:]  # copy the class attribute, so that when we make changes to it, we won't affect the other Pets in the class\n",
    "\n",
    "    def clock_tick(self):\n",
    "        self.boredom += 1\n",
    "        self.hunger += 1\n",
    "\n",
    "    def mood(self):\n",
    "        if self.hunger <= self.hunger_threshold and self.boredom <= self.boredom_threshold:\n",
    "            return \"happy\"\n",
    "        elif self.hunger > self.hunger_threshold:\n",
    "            return \"hungry\"\n",
    "        else:\n",
    "            return \"bored\"\n",
    "\n",
    "    def __str__(self):\n",
    "        state = \"     I'm \" + self.name + \". \"\n",
    "        state += \" I feel \" + self.mood() + \". \"\n",
    "        # state += \"Hunger {} Boredom {} Words {}\".format(self.hunger, self.boredom, self.sounds)\n",
    "        return state\n",
    "\n",
    "    def hi(self):\n",
    "        print(self.sounds[randrange(len(self.sounds))])\n",
    "        self.reduce_boredom()\n",
    "\n",
    "    def teach(self, word):\n",
    "        self.sounds.append(word)\n",
    "        self.reduce_boredom()\n",
    "\n",
    "    def feed(self):\n",
    "        self.reduce_hunger()\n",
    "\n",
    "    def reduce_hunger(self):\n",
    "        self.hunger = max(0, self.hunger - self.hunger_decrement)\n",
    "\n",
    "    def reduce_boredom(self):\n",
    "        self.boredom = max(0, self.boredom - self.boredom_decrement)\n",
    "\n",
    "\n",
    "\n",
    "\n",
    "p1 = Pet(\"Fido\")\n",
    "print(p1)\n",
    "for i in range(10):\n",
    "    p1.clock_tick()\n",
    "    print(i,p1)\n",
    "p1.feed()\n",
    "print(p1)"
   ]
  },
  {
   "cell_type": "code",
   "execution_count": 28,
   "id": "9b5c6f73",
   "metadata": {},
   "outputs": [
    {
     "ename": "AttributeError",
     "evalue": "module 'sys' has no attribute 'setExecutionLimit'",
     "output_type": "error",
     "traceback": [
      "\u001b[1;31m---------------------------------------------------------------------------\u001b[0m",
      "\u001b[1;31mAttributeError\u001b[0m                            Traceback (most recent call last)",
      "Input \u001b[1;32mIn [28]\u001b[0m, in \u001b[0;36m<cell line: 2>\u001b[1;34m()\u001b[0m\n\u001b[0;32m      1\u001b[0m \u001b[38;5;28;01mimport\u001b[39;00m \u001b[38;5;21;01msys\u001b[39;00m\n\u001b[1;32m----> 2\u001b[0m \u001b[43msys\u001b[49m\u001b[38;5;241;43m.\u001b[39;49m\u001b[43msetExecutionLimit\u001b[49m(\u001b[38;5;241m60000\u001b[39m)\n\u001b[0;32m      4\u001b[0m \u001b[38;5;28;01mdef\u001b[39;00m \u001b[38;5;21mwhichone\u001b[39m(petlist, name):\n\u001b[0;32m      5\u001b[0m     \u001b[38;5;28;01mfor\u001b[39;00m pet \u001b[38;5;129;01min\u001b[39;00m petlist:\n",
      "\u001b[1;31mAttributeError\u001b[0m: module 'sys' has no attribute 'setExecutionLimit'"
     ]
    }
   ],
   "source": [
    "import sys\n",
    "sys.setExecutionLimit(60000)\n",
    "\n",
    "def whichone(petlist, name):\n",
    "    for pet in petlist:\n",
    "        if pet.name == name:\n",
    "            return pet\n",
    "    return None # no pet matched\n",
    "\n",
    "def play():\n",
    "    animals = []\n",
    "\n",
    "    option = \"\"\n",
    "    base_prompt = \"\"\"\n",
    "        Quit\n",
    "        Adopt <petname_with_no_spaces_please>\n",
    "        Greet <petname>\n",
    "        Teach <petname> <word>\n",
    "        Feed <petname>\n",
    "\n",
    "        Choice: \"\"\"\n",
    "    feedback = \"\"\n",
    "    while True:\n",
    "        action = input(feedback + \"\\n\" + base_prompt)\n",
    "        feedback = \"\"\n",
    "        words = action.split()\n",
    "        if len(words) > 0:\n",
    "            command = words[0]\n",
    "        else:\n",
    "            command = None\n",
    "        if command == \"Quit\":\n",
    "            print(\"Exiting...\")\n",
    "            return\n",
    "        elif command == \"Adopt\" and len(words) > 1:\n",
    "            if whichone(animals, words[1]):\n",
    "                feedback += \"You already have a pet with that name\\n\"\n",
    "            else:\n",
    "                animals.append(Pet(words[1]))\n",
    "        elif command == \"Greet\" and len(words) > 1:\n",
    "            pet = whichone(animals, words[1])\n",
    "            if not pet:\n",
    "                feedback += \"I didn't recognize that pet name. Please try again.\\n\"\n",
    "                print()\n",
    "            else:\n",
    "                pet.hi()\n",
    "        elif command == \"Teach\" and len(words) > 2:\n",
    "            pet = whichone(animals, words[1])\n",
    "            if not pet:\n",
    "                feedback += \"I didn't recognize that pet name. Please try again.\"\n",
    "            else:\n",
    "                pet.teach(words[2])\n",
    "        elif command == \"Feed\" and len(words) > 1:\n",
    "            pet = whichone(animals, words[1])\n",
    "            if not pet:\n",
    "                feedback += \"I didn't recognize that pet name. Please try again.\"\n",
    "            else:\n",
    "                pet.feed()\n",
    "        else:\n",
    "            feedback+= \"I didn't understand that. Please try again.\"\n",
    "\n",
    "        for pet in animals:\n",
    "            pet.clock_tick()\n",
    "            feedback += \"\\n\" + pet.__str__()\n",
    "\n",
    "\n",
    "play()"
   ]
  },
  {
   "cell_type": "markdown",
   "id": "22a8a9d3",
   "metadata": {},
   "source": [
    "# Class Inheritance Methods"
   ]
  },
  {
   "cell_type": "code",
   "execution_count": 27,
   "id": "379a4cac",
   "metadata": {},
   "outputs": [
    {
     "name": "stdout",
     "output_type": "stream",
     "text": [
      "Ali  age: (19)\n",
      "0\n",
      "1\n"
     ]
    },
    {
     "data": {
      "text/plain": [
       "'19'"
      ]
     },
     "execution_count": 27,
     "metadata": {},
     "output_type": "execute_result"
    }
   ],
   "source": [
    "# its a class of person having names and its birth_years\n",
    "class Person:\n",
    "    current_year = 2022\n",
    "    def __init__(self,name,birth_year):\n",
    "        self.name = name\n",
    "        self.birth_year = birth_year\n",
    "        \n",
    "    def getAge(self):\n",
    "        Person.current_year - self.birth_year\n",
    "    \n",
    "    def __str__(self):\n",
    "        return '{}  age: ({})'.format(self.name,self.getAge())\n",
    "    \n",
    "ali = Person('Ali',2003)\n",
    "#print(ali)\n",
    "\n",
    "class Student(Person):\n",
    "    knowledge = 0\n",
    "    def __init__(self ,name ,birth_year):\n",
    "        Person.__init__(self ,name ,birth_year) # it directly calls the class Person init method and set the name and birth_year\n",
    "    def study(self):\n",
    "        Student.knowledge += 1\n",
    "        return Student.knowledge\n",
    "\n",
    "ali = Student('Ali',2003)   \n",
    "print(ali)\n",
    "print(ali.knowledge)\n",
    "ali.study()\n",
    "print(ali.knowledge)\n",
    "ali.getAge()"
   ]
  },
  {
   "cell_type": "code",
   "execution_count": 51,
   "id": "637a0843",
   "metadata": {},
   "outputs": [
    {
     "name": "stdout",
     "output_type": "stream",
     "text": [
      "Apun mastt ha!!\n"
     ]
    }
   ],
   "source": [
    "from random import randrange\n",
    "\n",
    "class Pet():\n",
    "    h_th = 10\n",
    "    b_th = 5\n",
    "    def __init__(self ,name):\n",
    "        self.name = name\n",
    "        self.hunger = randrange(Pet.h_th)\n",
    "        self.boredom = randrange(Pet.b_th)\n",
    "        \n",
    "    def mood(self):\n",
    "        if self.hunger < 4:\n",
    "            print(\"Khanna deddo :(\")\n",
    "        elif self.boredom < 2:\n",
    "            print('play with me!!!')\n",
    "        elif self.boredom == self.hunger:\n",
    "            print('Apun mastt ha!!')\n",
    "        else:\n",
    "            print('meaoww')\n",
    "        \n",
    "    def __str__(self):\n",
    "        return \"{} hunger {} boriyat {}\".format(self.name,self.hunger,self.boredom)\n",
    "    \n",
    "billi = Pet('billu')\n",
    "billi.mood()\n"
   ]
  },
  {
   "cell_type": "markdown",
   "id": "65a8e179",
   "metadata": {},
   "source": [
    "# Invoking the Parent Class’s Method"
   ]
  },
  {
   "cell_type": "code",
   "execution_count": 61,
   "id": "2fa1c414",
   "metadata": {},
   "outputs": [
    {
     "name": "stdout",
     "output_type": "stream",
     "text": [
      "['chirp', 'haha']\n",
      "['chirp', 'haha', 'jeje']\n",
      "['chirp', 'haha', 'jeje', 'sheshhhh']\n",
      "chirp\n",
      "chirp\n",
      "sheshhhh\n",
      "haha\n",
      "sheshhhh\n"
     ]
    }
   ],
   "source": [
    "from random import randrange\n",
    "\n",
    "# Here's the original Pet class\n",
    "class Pet():\n",
    "    boredom_decrement = 4\n",
    "    hunger_decrement = 6\n",
    "    boredom_threshold = 5\n",
    "    hunger_threshold = 10\n",
    "    sounds = ['Mrrp']\n",
    "    def __init__(self, name = \"Kitty\"):\n",
    "        self.name = name\n",
    "        self.hunger = randrange(self.hunger_threshold)\n",
    "        self.boredom = randrange(self.boredom_threshold)\n",
    "        self.sounds = self.sounds[:]  # copy the class attribute, so that when we make changes to it, we won't affect the other Pets in the class\n",
    "\n",
    "    def clock_tick(self):\n",
    "        self.boredom += 1\n",
    "        self.hunger += 1\n",
    "\n",
    "    def mood(self):\n",
    "        if self.hunger <= self.hunger_threshold and self.boredom <= self.boredom_threshold:\n",
    "            return \"happy\"\n",
    "        elif self.hunger > self.hunger_threshold:\n",
    "            return \"hungry\"\n",
    "        else:\n",
    "            return \"bored\"\n",
    "\n",
    "    def __str__(self):\n",
    "        state = \"     I'm \" + self.name + \". \"\n",
    "        state += \" I feel \" + self.mood() + \". \"\n",
    "        # state += \"Hunger %d Boredom %d Words %s\" % (self.hunger, self.boredom, self.sounds)\n",
    "        return state\n",
    "\n",
    "    def hi(self):\n",
    "        print(self.sounds[randrange(len(self.sounds))])\n",
    "        self.reduce_boredom()\n",
    "\n",
    "    def teach(self, word):\n",
    "        self.sounds.append(word)\n",
    "        self.reduce_boredom()\n",
    "        print(self.sounds)\n",
    "\n",
    "    def feed(self):\n",
    "        self.reduce_hunger()\n",
    "\n",
    "    def reduce_hunger(self):\n",
    "        self.hunger = max(0, self.hunger - self.hunger_decrement)\n",
    "\n",
    "    def reduce_boredom(self):\n",
    "        self.boredom = max(0, self.boredom - self.boredom_decrement)\n",
    "\n",
    "        \n",
    "class Bird(Pet):\n",
    "    sounds = [\"chirp\"]\n",
    "    def __init__(self, name=\"Kitty\", chirp_number=2):\n",
    "        Pet.__init__(self, name) # call the parent class's constructor\n",
    "        # basically, call the SUPER -- the parent version -- of the constructor, with all the parameters that it needs.\n",
    "        self.chirp_number = chirp_number # now, also assign the new instance variable\n",
    "\n",
    "    def hi(self):\n",
    "        for i in range(self.chirp_number): # jokeyy initially 2 sett hua wa ha\n",
    "            print(self.sounds[randrange(len(self.sounds))])  # randomly sounds uthaya gaa sounds list mese\n",
    "        self.reduce_boredom()\n",
    "\n",
    "b1 = Bird('tweety', 5) \n",
    "b1.teach(\"haha\") # haha append kara ke list print krdega\n",
    "b1.teach('jeje')\n",
    "b1.teach('sheshhhh')\n",
    "b1.hi()     # koi bhii 5 sound random uthaya gaa sound list mese    "
   ]
  },
  {
   "cell_type": "markdown",
   "id": "a9198f5c",
   "metadata": {},
   "source": [
    "# Pokemon Game"
   ]
  },
  {
   "cell_type": "code",
   "execution_count": 82,
   "id": "ecad739d",
   "metadata": {},
   "outputs": [
    {
     "name": "stdout",
     "output_type": "stream",
     "text": [
      "<class '__main__.Pokemon'>\n"
     ]
    }
   ],
   "source": [
    "class Pokemon():\n",
    "    attack = 12\n",
    "    defense = 10\n",
    "    health = 15\n",
    "    p_type = \"Normal\"\n",
    "\n",
    "    def __init__(self, name,level = 5):\n",
    "        self.name = name\n",
    "        self.level = level\n",
    "        self.weak = \"Normal\"\n",
    "        self.strong = \"Normal\"\n",
    "\n",
    "    def train(self):\n",
    "        self.update()\n",
    "        self.attack_up()\n",
    "        self.defense_up()\n",
    "        self.health_up()\n",
    "        self.level = self.level + 1\n",
    "        if self.level%self.evolve == 0:\n",
    "            return self.level, \"Evolved!\"\n",
    "        else:\n",
    "            return self.level\n",
    "\n",
    "    def attack_up(self):\n",
    "        self.attack = self.attack + self.attack_boost\n",
    "        return self.attack\n",
    "\n",
    "    def defense_up(self):\n",
    "        self.defense = self.defense + self.defense_boost\n",
    "        return self.defense\n",
    "\n",
    "    def health_up(self):\n",
    "        self.health = self.health + self.health_boost\n",
    "        return self.health\n",
    "\n",
    "    def update(self):\n",
    "        self.health_boost = 5\n",
    "        self.attack_boost = 3\n",
    "        self.defense_boost = 2\n",
    "        self.evolve = 10\n",
    "    def opponent(self):\n",
    "        if self.p_type == 'Grass':\n",
    "            return ('Fire', 'Water')\n",
    "        elif  self.p_type == 'Ghost':\n",
    "             return ('Dark', 'Psychic')\n",
    "        elif  self.p_type == 'Fire':\n",
    "            return  ('Water', 'Grass')                 \n",
    "        else:\n",
    "            return ('Electric', 'Fighting')\n",
    "    def __str__(self):\n",
    "        self.update()\n",
    "        return \"Pokemon name: {}, Type: {}, Level: {}\".format(self.name, self.p_type, self.level)\n",
    "\n",
    "class Grass_Pokemon(Pokemon):\n",
    "    attack = 15\n",
    "    defense = 14\n",
    "    health = 12\n",
    "    p_type = \"Grass\"\n",
    "\n",
    "    def update(self):\n",
    "        self.health_boost = 6\n",
    "        self.attack_boost = 2\n",
    "        self.defense_boost = 3\n",
    "        self.evolve = 12\n",
    "\n",
    "class Ghost_Pokemon(Pokemon):\n",
    "    p_type = \"Ghost\"\n",
    "\n",
    "    def update(self):\n",
    "        self.health_boost = 3\n",
    "        self.attack_boost = 4\n",
    "        self.defense_boost = 3\n",
    "\n",
    "class Fire_Pokemon(Pokemon):\n",
    "    p_type = \"Fire\"\n",
    "\n",
    "class Flying_Pokemon(Pokemon):\n",
    "    p_type = \"Flying\"\n",
    "    \n",
    "\n",
    "p = Pokemon('ss',5)\n",
    "p.update(\n",
    "print(p)\n"
   ]
  },
  {
   "cell_type": "markdown",
   "id": "2b200145",
   "metadata": {},
   "source": [
    "# Test Case"
   ]
  },
  {
   "cell_type": "code",
   "execution_count": 112,
   "id": "a5349f07",
   "metadata": {
    "scrolled": true
   },
   "outputs": [
    {
     "name": "stdout",
     "output_type": "stream",
     "text": [
      "a a\n",
      "a b\n",
      "a c\n",
      "a a\n",
      "a b\n",
      "a c\n",
      "a a\n",
      "a b\n",
      "a c\n",
      "b a\n",
      "b b\n",
      "b c\n",
      "b a\n",
      "b b\n",
      "b c\n",
      "c a\n",
      "c b\n",
      "c c\n"
     ]
    }
   ],
   "source": [
    "def update(letters,counts_d):\n",
    "    for c in letters:\n",
    "        if c in counts_d:\n",
    "            counts_d[c] += 1\n",
    "            return counts_d[c]\n",
    "        else:\n",
    "            counts_d[c] = 1\n",
    "            return counts_d[c]\n",
    "le = \"aaabbc\"\n",
    "d = {'a': 3 , 'b': 2,'c': 1}     \n",
    "\n",
    "for i in le:\n",
    "    for j in d:\n",
    "        print(i,j)"
   ]
  },
  {
   "cell_type": "code",
   "execution_count": 121,
   "id": "f5c7d608",
   "metadata": {},
   "outputs": [
    {
     "ename": "AssertionError",
     "evalue": "",
     "output_type": "error",
     "traceback": [
      "\u001b[1;31m---------------------------------------------------------------------------\u001b[0m",
      "\u001b[1;31mAssertionError\u001b[0m                            Traceback (most recent call last)",
      "Input \u001b[1;32mIn [121]\u001b[0m, in \u001b[0;36m<cell line: 9>\u001b[1;34m()\u001b[0m\n\u001b[0;32m      6\u001b[0m     \u001b[38;5;28;01mreturn\u001b[39;00m result\n\u001b[0;32m      8\u001b[0m \u001b[38;5;28;01massert\u001b[39;00m distance(\u001b[38;5;241m1\u001b[39m,\u001b[38;5;241m2\u001b[39m,\u001b[38;5;241m1\u001b[39m,\u001b[38;5;241m2\u001b[39m) \u001b[38;5;241m==\u001b[39m \u001b[38;5;241m0\u001b[39m \u001b[38;5;66;03m# it passes\u001b[39;00m\n\u001b[1;32m----> 9\u001b[0m \u001b[38;5;28;01massert\u001b[39;00m distance(\u001b[38;5;241m2\u001b[39m,\u001b[38;5;241m1\u001b[39m,\u001b[38;5;241m3\u001b[39m,\u001b[38;5;241m1\u001b[39m) \u001b[38;5;241m==\u001b[39m \u001b[38;5;241m0\u001b[39m\n",
      "\u001b[1;31mAssertionError\u001b[0m: "
     ]
    }
   ],
   "source": [
    "def distance(x1,y1,x2,y2):\n",
    "    diff_x = x2 - x1\n",
    "    diff_y = y2 - y1\n",
    "    sq = diff_x**2 + diff_y**2\n",
    "    result = sq**0.5\n",
    "    return result\n",
    "\n",
    "assert distance(1,2,1,2) == 0 # it passes\n",
    "assert distance(2,1,3,1) == 0 # throws assertin error"
   ]
  },
  {
   "cell_type": "markdown",
   "id": "9ae91832",
   "metadata": {},
   "source": [
    "# Testing Classes"
   ]
  },
  {
   "cell_type": "code",
   "execution_count": 139,
   "id": "5a8a8639",
   "metadata": {},
   "outputs": [
    {
     "ename": "NameError",
     "evalue": "name 'x' is not defined",
     "output_type": "error",
     "traceback": [
      "\u001b[1;31m---------------------------------------------------------------------------\u001b[0m",
      "\u001b[1;31mNameError\u001b[0m                                 Traceback (most recent call last)",
      "Input \u001b[1;32mIn [139]\u001b[0m, in \u001b[0;36m<cell line: 12>\u001b[1;34m()\u001b[0m\n\u001b[0;32m      8\u001b[0m         \u001b[38;5;28mself\u001b[39m\u001b[38;5;241m.\u001b[39mx \u001b[38;5;241m+\u001b[39m\u001b[38;5;241m=\u001b[39m new_x\n\u001b[0;32m      9\u001b[0m         \u001b[38;5;28mself\u001b[39m\u001b[38;5;241m.\u001b[39my \u001b[38;5;241m+\u001b[39m\u001b[38;5;241m=\u001b[39m new_y\n\u001b[1;32m---> 12\u001b[0m p \u001b[38;5;241m=\u001b[39m \u001b[43mPoint\u001b[49m\u001b[43m(\u001b[49m\u001b[38;5;241;43m3\u001b[39;49m\u001b[43m,\u001b[49m\u001b[38;5;241;43m4\u001b[39;49m\u001b[43m)\u001b[49m\n\u001b[0;32m     14\u001b[0m \u001b[38;5;66;03m# p.move(1,5) # cuz we move point x and y to x(3+1 = 4) & y(4+5 = 9)\u001b[39;00m\n\u001b[0;32m     15\u001b[0m \n\u001b[0;32m     16\u001b[0m \u001b[38;5;66;03m# testing classes\u001b[39;00m\n\u001b[0;32m     17\u001b[0m \n\u001b[0;32m     18\u001b[0m \u001b[38;5;66;03m# testing constructor\u001b[39;00m\n\u001b[0;32m     20\u001b[0m \u001b[38;5;28;01massert\u001b[39;00m p\u001b[38;5;241m.\u001b[39mx \u001b[38;5;241m==\u001b[39m \u001b[38;5;241m3\u001b[39m  \u001b[38;5;66;03m# x value in class should be 3\u001b[39;00m\n",
      "Input \u001b[1;32mIn [139]\u001b[0m, in \u001b[0;36mPoint.__init__\u001b[1;34m(self, xname, yname)\u001b[0m\n\u001b[0;32m      2\u001b[0m \u001b[38;5;28;01mdef\u001b[39;00m \u001b[38;5;21m__init__\u001b[39m(\u001b[38;5;28mself\u001b[39m,xname,yname):\n\u001b[1;32m----> 3\u001b[0m     \u001b[38;5;28mself\u001b[39m\u001b[38;5;241m.\u001b[39mx \u001b[38;5;241m=\u001b[39m \u001b[43mx\u001b[49m\n\u001b[0;32m      4\u001b[0m     \u001b[38;5;28mself\u001b[39m\u001b[38;5;241m.\u001b[39my \u001b[38;5;241m=\u001b[39m y\n",
      "\u001b[1;31mNameError\u001b[0m: name 'x' is not defined"
     ]
    }
   ],
   "source": [
    "class Point:\n",
    "    def __init__(self,xname,yname):\n",
    "        self.x = x\n",
    "        self.y = y\n",
    "    def distance_from_origin(self):   # (x**2+y**2)**0.5\n",
    "        return ((self.x**2) + (self.y**2))**0.5\n",
    "    def move(self,new_x,new_y):\n",
    "        self.x += new_x\n",
    "        self.y += new_y\n",
    "        \n",
    "        \n",
    "p = Point(3,4)\n",
    "\n",
    "# p.move(1,5) # cuz we move point x and y to x(3+1 = 4) & y(4+5 = 9)\n",
    "\n",
    "# testing classes\n",
    "\n",
    "# testing constructor\n",
    "\n",
    "assert p.x == 3  # x value in class should be 3\n",
    "assert p.y == 4  # y value in class should be 4\n",
    "\n",
    "# testing distance_from_origin()\n",
    "\n",
    "assert p.distance_from_origin() == 5 # distance from origin of point(3,4)\n",
    "\n",
    "# testing move()\n",
    "\n",
    "p.move(1,5)\n",
    "assert p.x == 4 # after moving x it should be 4 e.g 3+1\n",
    "assert p.y == 9 # after moving y it should be 9 e.g 4+5\n",
    "\n",
    "\n"
   ]
  },
  {
   "cell_type": "markdown",
   "id": "a3e787ec",
   "metadata": {},
   "source": [
    "# Try / Except"
   ]
  },
  {
   "cell_type": "code",
   "execution_count": 144,
   "id": "e8e26910",
   "metadata": {},
   "outputs": [
    {
     "name": "stdout",
     "output_type": "stream",
     "text": [
      "{'Will pass': 3, 'Will not pass': 2}\n"
     ]
    }
   ],
   "source": [
    "''''Below, we have provided a list of tuples that consist of student names, \n",
    "final exam scores, and whether or not they will pass the class. For some students, \n",
    "the tuple does not have a third element because it is unknown whether or not they will pass. \n",
    "Currently, the for loop does not work. Add a try/except clause so the code runs without an error - \n",
    "if there is no third element in the tuple, no changes should be made to the dictionary.'''\n",
    "\n",
    "\n",
    "students = [('Timmy', 95, 'Will pass'), ('Martha', 70), ('Betty', 82, 'Will pass'), \n",
    "            ('Stewart', 50, 'Will not pass'), ('Ashley', 68), ('Natalie', 99, 'Will pass'), \n",
    "            ('Archie', 71), ('Carl', 45, 'Will not pass')] \n",
    "                                                              #throws index error cause some tuples has only 2 values while the\n",
    "                                                              #rest contains 3\n",
    "passing = {'Will pass': 0, 'Will not pass': 0}\n",
    "for tup in students:                             \n",
    "    try:\n",
    "        if tup[2] == 'Will pass':\n",
    "            passing['Will pass'] += 1\n",
    "        elif tup[2] == 'Will not pass':\n",
    "            passing['Will not pass'] += 1\n",
    "            \n",
    "    except IndexError:\n",
    "        passing = passing\n",
    "        \n",
    "print(passing)        "
   ]
  },
  {
   "cell_type": "code",
   "execution_count": 143,
   "id": "d5e35dd0",
   "metadata": {},
   "outputs": [
    {
     "name": "stdout",
     "output_type": "stream",
     "text": [
      "[9, 13, 'Error', 7, 6, 5, 10, 9, 'Error', 8, 7, 6, 10, 11, 12, 'Error', 7, 8, 4, 10, 9, 'Error', 9, 10, 11, 12, 'Error', 'Error', 9, 10, 11, 13, 7, 6, 9, 10, 'Error', 6, 7, 8, 9, 5]\n"
     ]
    }
   ],
   "source": [
    "''''Below, we have provided code that does not run. Add a try/except \n",
    "clause so the code runs without errors. If an element is not able to undergo the addition operation, \n",
    "the string ‘Error’ should be appended to plus_four.'''\n",
    "\n",
    "\n",
    "\n",
    "nums = [5, 9, '4', 3, 2, 1, 6, 5, '7', 4, 3, \n",
    "        2, 6, 7, 8, '0', 3, 4, 0, 6, 5, '3',\n",
    "        5, 6, 7, 8, '3', '1', 5, 6, 7, 9, 3, \n",
    "        2, 5, 6, '9', 2, 3, 4, 5, 1]           # throws TypeError as int + str = error\n",
    "\n",
    "plus_four = []\n",
    "\n",
    "for num in nums:\n",
    "    try:\n",
    "        plus_four.append(num+4)\n",
    "    except TypeError:\n",
    "        plus_four.append('Error')\n",
    "        \n",
    "print(plus_four)        "
   ]
  },
  {
   "cell_type": "code",
   "execution_count": 22,
   "id": "9382f7d0",
   "metadata": {},
   "outputs": [
    {
     "name": "stdout",
     "output_type": "stream",
     "text": [
      "Account Number:  0000-0000-123\n",
      "Account Name:  Ali Aamir\n",
      "Account Balance: Rs 5000\n",
      "\n",
      "\n",
      "Account Number:  0000-0000-123\n",
      "Account Name:  Ali Aamir\n",
      "Account Balance: Rs 5500\n",
      "\n",
      "\n",
      "Account Number:  0000-0000-123\n",
      "Account Name:  Ali Aamir\n",
      "Account Balance: Rs 4900\n",
      "\n",
      "\n",
      "Account Number:  0000-0000-123\n",
      "Account Name:  Ali Aamir\n",
      "Account Balance: Rs 4655.0\n"
     ]
    }
   ],
   "source": [
    "''''Create a Python class called BankAccount which represents a bank account, having as attributes: accountNumber (numeric\n",
    "type), name (name of the account owner as string type), balance.\n",
    "Create a constructor with parameters: accountNumber, name, balance.Create a Deposit() method which manages the deposit actions.\n",
    "Create a Withdrawal() method  which manages withdrawals actions. Create an bankFees() method to apply the bank fees \n",
    "with a percentage of 5% of the balance account.\n",
    "Create a display() method to display\n",
    "account details.\n",
    "Give the complete code for\n",
    "the  BankAccount class.Output:The output is :\n",
    "Account Number :   0000-0000-123\n",
    "\n",
    "Account Name :  Your Name\n",
    "\n",
    "Account Balance :  Rs. 5000'''\n",
    "\n",
    "\n",
    "class BankAccount:\n",
    "    def __init__(self,accountNumber, name, balance):\n",
    "            self.accountNumber = accountNumber\n",
    "            self.name = name\n",
    "            self.balance = balance\n",
    "    def Deposit(self,amt):\n",
    "            self.balance += amt\n",
    "            return \"Sucessfully amount Rs.{} is deposited your new Balance is Rs.{}\".format(amt,self.balance)\n",
    "    def Withdrawal(self,amt1):\n",
    "                if amt1 > self.balance:\n",
    "                    return \"insufficient amount current balance is Rs.{}\".format(self.balance)\n",
    "                else:    \n",
    "                    self.balance -= amt1\n",
    "                    return \"Sucessfully amount Rs.{} withdrawal remaining balance is Rs.{}\".format(amt1,self.balance)\n",
    "    def bankfees(self):\n",
    "            bf = self.balance*(5/100)  #5% of balance.\n",
    "            self.balance -= bf\n",
    "    def display(self):\n",
    "            print(\"Account Number: \",self.accountNumber)\n",
    "            print(\"Account Name: \",self.name)\n",
    "            print('Account Balance: Rs',self.balance)            \n",
    "\n",
    "            \n",
    "b = BankAccount('0000-0000-123',\"Ali Aamir\",5000)\n",
    "c = BankAccount('0002-0100-124',\"Bilal Ahmed\",6000)\n",
    "d = BankAccount('3002-0102-424',\"Rupa Desuza\",8000)\n",
    "\n",
    "\n",
    "\n",
    "b.display()      \n",
    "print('\\n')\n",
    "b.Deposit(500)\n",
    "b.display()\n",
    "print('\\n')\n",
    "b.Withdrawal(600)\n",
    "b.display()\n",
    "print('\\n')\n",
    "b.bankfees()\n",
    "b.display()"
   ]
  },
  {
   "cell_type": "code",
   "execution_count": null,
   "id": "b0839881",
   "metadata": {},
   "outputs": [],
   "source": []
  },
  {
   "cell_type": "code",
   "execution_count": null,
   "id": "34f0b098",
   "metadata": {},
   "outputs": [],
   "source": []
  }
 ],
 "metadata": {
  "kernelspec": {
   "display_name": "Python 3 (ipykernel)",
   "language": "python",
   "name": "python3"
  },
  "language_info": {
   "codemirror_mode": {
    "name": "ipython",
    "version": 3
   },
   "file_extension": ".py",
   "mimetype": "text/x-python",
   "name": "python",
   "nbconvert_exporter": "python",
   "pygments_lexer": "ipython3",
   "version": "3.9.13"
  }
 },
 "nbformat": 4,
 "nbformat_minor": 5
}
